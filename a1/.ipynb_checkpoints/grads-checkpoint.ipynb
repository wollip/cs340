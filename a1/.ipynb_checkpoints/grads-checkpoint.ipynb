{
 "cells": [
  {
   "cell_type": "code",
   "execution_count": 1,
   "metadata": {},
   "outputs": [
    {
     "data": {
      "text/plain": [
       "numGrad (generic function with 1 method)"
      ]
     },
     "execution_count": 1,
     "metadata": {},
     "output_type": "execute_result"
    }
   ],
   "source": [
    "using Printf\n",
    "include(\"homework/a1/grads.jl\")"
   ]
  },
  {
   "cell_type": "code",
   "execution_count": 2,
   "metadata": {},
   "outputs": [
    {
     "data": {
      "text/plain": [
       "1×4 Array{Int64,2}:\n",
       " 1  2  3  4"
      ]
     },
     "execution_count": 2,
     "metadata": {},
     "output_type": "execute_result"
    }
   ],
   "source": [
    "x = [1 2 3 4]"
   ]
  },
  {
   "cell_type": "markdown",
   "metadata": {},
   "source": [
    "# Example 0"
   ]
  },
  {
   "cell_type": "code",
   "execution_count": 3,
   "metadata": {},
   "outputs": [
    {
     "name": "stdout",
     "output_type": "stream",
     "text": [
      "30\n",
      "[2 4 6 8]\n",
      "[2.0000010003684565, 4.000000998871656, 6.000001000927568, 8.000000999430767]"
     ]
    }
   ],
   "source": [
    "show(func0(x))\n",
    "@printf(\"\\n\")\n",
    "show(grad0(x))\n",
    "@printf(\"\\n\")\n",
    "show(numGrad(func0, x))"
   ]
  },
  {
   "cell_type": "markdown",
   "metadata": {},
   "source": [
    "# Function 1"
   ]
  },
  {
   "cell_type": "code",
   "execution_count": 4,
   "metadata": {},
   "outputs": [
    {
     "data": {
      "text/plain": [
       "grad1_v2 (generic function with 1 method)"
      ]
     },
     "execution_count": 4,
     "metadata": {},
     "output_type": "execute_result"
    }
   ],
   "source": [
    "function grad1_v2(x)\n",
    "\treturn 3*x.^2\n",
    "end"
   ]
  },
  {
   "cell_type": "code",
   "execution_count": 5,
   "metadata": {},
   "outputs": [
    {
     "name": "stdout",
     "output_type": "stream",
     "text": [
      "100\n",
      "[3.0, 12.0, 27.0, 48.0]\n",
      "[3 12 27 48]\n",
      "[3.0000030051269277, 12.000005995105312, 27.00000899835686, 48.00001200067072]"
     ]
    }
   ],
   "source": [
    "show(func1(x))\n",
    "@printf(\"\\n\")\n",
    "show(grad1(x))\n",
    "@printf(\"\\n\")\n",
    "show(grad1_v2(x))\n",
    "@printf(\"\\n\")\n",
    "show(numGrad(func1, x))"
   ]
  },
  {
   "cell_type": "markdown",
   "metadata": {},
   "source": [
    "# Function 2"
   ]
  },
  {
   "cell_type": "code",
   "execution_count": 6,
   "metadata": {},
   "outputs": [
    {
     "data": {
      "text/plain": [
       "grad2_v2 (generic function with 1 method)"
      ]
     },
     "execution_count": 6,
     "metadata": {},
     "output_type": "execute_result"
    }
   ],
   "source": [
    "function grad2_v2(x)\n",
    "    return prod(x)./x\n",
    "end"
   ]
  },
  {
   "cell_type": "code",
   "execution_count": 7,
   "metadata": {},
   "outputs": [
    {
     "name": "stdout",
     "output_type": "stream",
     "text": [
      "24\n",
      "[24.0, 12.0, 8.0, 6.0]\n",
      "[24.0 12.0 8.0 6.0]\n",
      "[23.999999996249244, 12.000000001677336, 8.000000001118224, 5.999999999062311]"
     ]
    }
   ],
   "source": [
    "show(func2(x))\n",
    "@printf(\"\\n\")\n",
    "show(grad2(x))\n",
    "@printf(\"\\n\")\n",
    "show(grad2_v2(x))\n",
    "@printf(\"\\n\")\n",
    "show(numGrad(func2, x))"
   ]
  },
  {
   "cell_type": "markdown",
   "metadata": {},
   "source": [
    "# Function 3"
   ]
  },
  {
   "cell_type": "code",
   "execution_count": 8,
   "metadata": {},
   "outputs": [
    {
     "data": {
      "text/plain": [
       "grad3_v2 (generic function with 1 method)"
      ]
     },
     "execution_count": 8,
     "metadata": {},
     "output_type": "execute_result"
    }
   ],
   "source": [
    "grad3_v2(x) = exp.(-x) ./ (1 .+ exp.(-x))\n"
   ]
  },
  {
   "cell_type": "code",
   "execution_count": 9,
   "metadata": {},
   "outputs": [
    {
     "name": "stdout",
     "output_type": "stream",
     "text": [
      "-0.5069269780527472\n",
      "[0.2689414213699951 0.11920292202211755 0.04742587317756679 0.017986209962091555]\n",
      "[0.2689414213699951 0.11920292202211755 0.04742587317756679 0.017986209962091555]\n",
      "[0.26894132310051333, 0.11920286968614136, 0.04742585046901837, 0.01798620108406368]"
     ]
    }
   ],
   "source": [
    "show(func3(x))\n",
    "@printf(\"\\n\")\n",
    "show(grad3(x))\n",
    "@printf(\"\\n\")\n",
    "show(grad3_v2(x))\n",
    "@printf(\"\\n\")\n",
    "show(numGrad(func3, x))"
   ]
  },
  {
   "cell_type": "code",
   "execution_count": null,
   "metadata": {},
   "outputs": [],
   "source": []
  }
 ],
 "metadata": {
  "kernelspec": {
   "display_name": "Julia 1.2.0",
   "language": "julia",
   "name": "julia-1.2"
  },
  "language_info": {
   "file_extension": ".jl",
   "mimetype": "application/julia",
   "name": "julia",
   "version": "1.2.0"
  }
 },
 "nbformat": 4,
 "nbformat_minor": 2
}
