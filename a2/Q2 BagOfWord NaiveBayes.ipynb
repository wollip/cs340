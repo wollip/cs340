{
 "cells": [
  {
   "cell_type": "markdown",
   "metadata": {},
   "source": [
    "# Imports"
   ]
  },
  {
   "cell_type": "code",
   "execution_count": 1,
   "metadata": {},
   "outputs": [],
   "source": [
    "using Printf\n",
    "using JLD\n"
   ]
  },
  {
   "cell_type": "markdown",
   "metadata": {},
   "source": [
    "# 2.1"
   ]
  },
  {
   "cell_type": "code",
   "execution_count": 9,
   "metadata": {},
   "outputs": [],
   "source": [
    "# X = [0 0 1; 0 1 1; 0 1 1; 1 1 0; 0 1 0; 0 1 1; 1 0 0; 1 1 0; 1 0 1; 1 0 0];\n",
    "# y = [1; 1; 1; 1; 1; 1; 2; 2; 2; 2];"
   ]
  },
  {
   "cell_type": "markdown",
   "metadata": {},
   "source": [
    "# 2.2"
   ]
  },
  {
   "cell_type": "code",
   "execution_count": 2,
   "metadata": {},
   "outputs": [],
   "source": [
    "include(\"example_BagOfWords.jl\");"
   ]
  },
  {
   "cell_type": "code",
   "execution_count": 3,
   "metadata": {},
   "outputs": [
    {
     "data": {
      "text/plain": [
       "\"format\""
      ]
     },
     "execution_count": 3,
     "metadata": {},
     "output_type": "execute_result"
    }
   ],
   "source": [
    "wordlist[30]"
   ]
  },
  {
   "cell_type": "code",
   "execution_count": 4,
   "metadata": {},
   "outputs": [
    {
     "data": {
      "text/plain": [
       "2-element Array{String,1}:\n",
       " \"food\" \n",
       " \"world\""
      ]
     },
     "execution_count": 4,
     "metadata": {},
     "output_type": "execute_result"
    }
   ],
   "source": [
    "wordlist[X[200, :].==1]"
   ]
  },
  {
   "cell_type": "code",
   "execution_count": 5,
   "metadata": {},
   "outputs": [
    {
     "data": {
      "text/plain": [
       "\"talk.*\""
      ]
     },
     "execution_count": 5,
     "metadata": {},
     "output_type": "execute_result"
    }
   ],
   "source": [
    "groupnames[y[200]]"
   ]
  },
  {
   "cell_type": "markdown",
   "metadata": {},
   "source": [
    "# 2.3"
   ]
  },
  {
   "cell_type": "code",
   "execution_count": 6,
   "metadata": {
    "scrolled": false
   },
   "outputs": [
    {
     "name": "stdout",
     "output_type": "stream",
     "text": [
      "Test error with depth-1 decision tree: 0.595\n",
      "Test error with depth-2 decision tree: 0.595\n",
      "Test error with depth-3 decision tree: 0.599\n",
      "Test error with depth-4 decision tree: 0.549\n",
      "Test error with depth-5 decision tree: 0.515\n",
      "Test error with depth-6 decision tree: 0.480\n",
      "Test error with depth-7 decision tree: 0.460\n",
      "Test error with depth-8 decision tree: 0.439\n",
      "Test error with depth-9 decision tree: 0.440\n",
      "Test error with depth-10 decision tree: 0.421\n",
      "Test error with depth-11 decision tree: 0.421\n",
      "Test error with depth-12 decision tree: 0.408\n",
      "Test error with depth-13 decision tree: 0.396\n",
      "Test error with depth-14 decision tree: 0.387\n",
      "Test error with depth-15 decision tree: 0.388\n",
      "Test error with depth-16 decision tree: 0.375\n",
      "Test error with depth-17 decision tree: 0.368\n",
      "Test error with depth-18 decision tree: 0.359\n",
      "Test error with depth-19 decision tree: 0.360\n",
      "Test error with depth-20 decision tree: 0.355\n"
     ]
    }
   ],
   "source": [
    "include(\"example_decisionTree_newsgroups.jl\")"
   ]
  },
  {
   "cell_type": "code",
   "execution_count": 7,
   "metadata": {},
   "outputs": [
    {
     "name": "stdout",
     "output_type": "stream",
     "text": [
      "Test error with naive Bayes: 0.188\n"
     ]
    }
   ],
   "source": [
    "include(\"example_naiveBayes.jl\")"
   ]
  },
  {
   "cell_type": "code",
   "execution_count": null,
   "metadata": {},
   "outputs": [],
   "source": []
  }
 ],
 "metadata": {
  "kernelspec": {
   "display_name": "Julia 1.2.0",
   "language": "julia",
   "name": "julia-1.2"
  },
  "language_info": {
   "file_extension": ".jl",
   "mimetype": "application/julia",
   "name": "julia",
   "version": "1.2.0"
  }
 },
 "nbformat": 4,
 "nbformat_minor": 2
}
