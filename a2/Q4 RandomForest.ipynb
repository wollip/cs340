{
 "cells": [
  {
   "cell_type": "markdown",
   "metadata": {},
   "source": [
    "# Just getting to know the code"
   ]
  },
  {
   "cell_type": "code",
   "execution_count": 1,
   "metadata": {},
   "outputs": [
    {
     "name": "stdout",
     "output_type": "stream",
     "text": [
      "Train Error with depth-5 decision tree: 0.265\n",
      "Test Error with depth-5 decision tree: 0.473\n",
      "Train Error with depth-5 random tree: 0.424\n",
      "Test Error with depth-5 random tree: 0.572\n"
     ]
    }
   ],
   "source": [
    "include(\"example_randomTree.jl\")"
   ]
  },
  {
   "cell_type": "markdown",
   "metadata": {},
   "source": [
    "# 4.1.1"
   ]
  },
  {
   "cell_type": "code",
   "execution_count": 46,
   "metadata": {},
   "outputs": [
    {
     "name": "stdout",
     "output_type": "stream",
     "text": [
      "Train Error with depth-Inf decision tree: 0.000\n",
      "Test Error with depth-Inf decision tree: 0.367\n",
      "Train Error with depth-Inf random tree: 0.201\n",
      "Test Error with depth-Inf random tree: 0.511\n"
     ]
    }
   ],
   "source": [
    "using Printf\n",
    "using Statistics\n",
    "\n",
    "# Load data\n",
    "using JLD\n",
    "fileName = \"vowel.jld\"\n",
    "X = load(fileName,\"X\")\n",
    "y = load(fileName,\"y\")\n",
    "Xtest = load(fileName,\"Xtest\")\n",
    "ytest = load(fileName,\"ytest\")\n",
    "\n",
    "# Fit a decision tree classifier\n",
    "include(\"decisionTree_infoGain.jl\")\n",
    "depth = Inf\n",
    "model = decisionTree_infoGain(X,y,depth)\n",
    "\n",
    "# Evaluate training error\n",
    "yhat = model.predict(X)\n",
    "trainError = mean(yhat .!= y)\n",
    "@printf(\"Train Error with depth-%d decision tree: %.3f\\n\",depth,trainError)\n",
    "\n",
    "# Evaluate test error\n",
    "yhat = model.predict(Xtest)\n",
    "testError = mean(yhat .!= ytest)\n",
    "@printf(\"Test Error with depth-%d decision tree: %.3f\\n\",depth,testError)\n",
    "\n",
    "# Fit a random tree classifier\n",
    "include(\"randomTree.jl\")\n",
    "depth = Inf\n",
    "model = randomTree(X,y,depth)\n",
    "\n",
    "# Evaluate training error\n",
    "yhat = model.predict(X)\n",
    "trainError = mean(yhat .!= y)\n",
    "@printf(\"Train Error with depth-%d random tree: %.3f\\n\",depth,trainError)\n",
    "\n",
    "# Evaluate test error\n",
    "yhat = model.predict(Xtest)\n",
    "testError = mean(yhat .!= ytest)\n",
    "@printf(\"Test Error with depth-%d random tree: %.3f\\n\",depth,testError)\n"
   ]
  },
  {
   "cell_type": "markdown",
   "metadata": {},
   "source": [
    "It stops because we eventually get 1 element and that element can not be split further"
   ]
  },
  {
   "cell_type": "markdown",
   "metadata": {},
   "source": [
    "# 4.1.2\n",
    "\n",
    "Because it is only using a subset of the training examples"
   ]
  },
  {
   "cell_type": "markdown",
   "metadata": {},
   "source": [
    "# 4.1.3"
   ]
  },
  {
   "cell_type": "code",
   "execution_count": 6,
   "metadata": {},
   "outputs": [
    {
     "data": {
      "text/plain": [
       "randomTree (generic function with 1 method)"
      ]
     },
     "execution_count": 6,
     "metadata": {},
     "output_type": "execute_result"
    }
   ],
   "source": [
    "include(\"misc.jl\")\n",
    "include(\"randomTree.jl\")"
   ]
  },
  {
   "cell_type": "code",
   "execution_count": 37,
   "metadata": {},
   "outputs": [
    {
     "data": {
      "text/plain": [
       "randomForest (generic function with 1 method)"
      ]
     },
     "execution_count": 37,
     "metadata": {},
     "output_type": "execute_result"
    }
   ],
   "source": [
    "function randomForest(X, y, depth, nTrees)\n",
    "    Trees = Array{Union{GenericModel, StumpModel}}(undef, 50)\n",
    "    for i in 1:nTrees\n",
    "        Trees[i] = randomTree(X,y,depth)\n",
    "    end\n",
    "    \n",
    "    function predict(Xhat)\n",
    "        (t,d) = size(Xhat)\n",
    "\n",
    "        output = zeros(t, nTrees)\n",
    "        for i in 1:nTrees\n",
    "            output[:, i] = Trees[i].predict(Xhat)\n",
    "        end\n",
    "        \n",
    "        for i in 1:t\n",
    "            output[i, 1] = mode(output[i, :])\n",
    "        end\n",
    "        \n",
    "        return output[:, 1]\n",
    "    end\n",
    "    \n",
    "    return GenericModel(predict)\n",
    "end"
   ]
  },
  {
   "cell_type": "markdown",
   "metadata": {},
   "source": [
    "# 4.1.4"
   ]
  },
  {
   "cell_type": "code",
   "execution_count": 38,
   "metadata": {},
   "outputs": [
    {
     "name": "stdout",
     "output_type": "stream",
     "text": [
      "Train Error with depth-Inf random tree: 0.000\n",
      "Test Error with depth-Inf random tree: 0.208\n"
     ]
    }
   ],
   "source": [
    "depth = Inf\n",
    "nTrees = 50\n",
    "model = randomForest(X,y,depth, 50)\n",
    "\n",
    "# Evaluate training error\n",
    "yhat = model.predict(X)\n",
    "trainError = mean(yhat .!= y)\n",
    "@printf(\"Train Error with depth-%d random tree: %.3f\\n\",depth,trainError)\n",
    "\n",
    "# Evaluate test error\n",
    "yhat = model.predict(Xtest)\n",
    "testError = mean(yhat .!= ytest)\n",
    "@printf(\"Test Error with depth-%d random tree: %.3f\\n\",depth,testError)\n"
   ]
  },
  {
   "cell_type": "markdown",
   "metadata": {},
   "source": [
    "# randomTree_permute"
   ]
  },
  {
   "cell_type": "code",
   "execution_count": 77,
   "metadata": {},
   "outputs": [
    {
     "name": "stdout",
     "output_type": "stream",
     "text": [
      "Train Error with depth-Inf random tree: 0.530\n",
      "Test Error with depth-Inf random tree: 0.670\n"
     ]
    }
   ],
   "source": [
    "# Fit a random tree classifier\n",
    "include(\"randomTree_permute.jl\")\n",
    "depth = Inf\n",
    "model = randomTree(X,y,depth)\n",
    "\n",
    "# Evaluate training error\n",
    "yhat = model.predict(X)\n",
    "trainError = mean(yhat .!= y)\n",
    "@printf(\"Train Error with depth-%d random tree: %.3f\\n\",depth,trainError)\n",
    "\n",
    "# Evaluate test error\n",
    "yhat = model.predict(Xtest)\n",
    "testError = mean(yhat .!= ytest)\n",
    "@printf(\"Test Error with depth-%d random tree: %.3f\\n\",depth,testError)"
   ]
  },
  {
   "cell_type": "code",
   "execution_count": 78,
   "metadata": {},
   "outputs": [
    {
     "name": "stdout",
     "output_type": "stream",
     "text": [
      "Train Error with depth-Inf random tree: 0.045\n",
      "Test Error with depth-Inf random tree: 0.307\n"
     ]
    }
   ],
   "source": [
    "depth = Inf\n",
    "nTrees = 50\n",
    "model = randomForest(X,y,depth, 50)\n",
    "\n",
    "# Evaluate training error\n",
    "yhat = model.predict(X)\n",
    "trainError = mean(yhat .!= y)\n",
    "@printf(\"Train Error with depth-%d random tree: %.3f\\n\",depth,trainError)\n",
    "\n",
    "# Evaluate test error\n",
    "yhat = model.predict(Xtest)\n",
    "testError = mean(yhat .!= ytest)\n",
    "@printf(\"Test Error with depth-%d random tree: %.3f\\n\",depth,testError)"
   ]
  },
  {
   "cell_type": "code",
   "execution_count": null,
   "metadata": {},
   "outputs": [],
   "source": []
  }
 ],
 "metadata": {
  "kernelspec": {
   "display_name": "Julia 1.2.0",
   "language": "julia",
   "name": "julia-1.2"
  },
  "language_info": {
   "file_extension": ".jl",
   "mimetype": "application/julia",
   "name": "julia",
   "version": "1.2.0"
  }
 },
 "nbformat": 4,
 "nbformat_minor": 2
}
