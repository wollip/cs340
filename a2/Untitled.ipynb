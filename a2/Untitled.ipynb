{
 "cells": [
  {
   "cell_type": "code",
   "execution_count": 1,
   "metadata": {},
   "outputs": [],
   "source": [
    "using Printf\n",
    "using Statistics\n",
    "\n",
    "# Load data\n",
    "using JLD\n",
    "fileName = \"vowel.jld\"\n",
    "X = load(fileName,\"X\")\n",
    "y = load(fileName,\"y\")\n",
    "Xtest = load(fileName,\"Xtest\")\n",
    "ytest = load(fileName,\"ytest\");\n"
   ]
  },
  {
   "cell_type": "code",
   "execution_count": 2,
   "metadata": {},
   "outputs": [],
   "source": [
    "include(\"misc.jl\")\n",
    "include(\"decisionStump.jl\");"
   ]
  },
  {
   "cell_type": "code",
   "execution_count": 3,
   "metadata": {},
   "outputs": [
    {
     "name": "stdout",
     "output_type": "stream",
     "text": [
      "Train Error with depth-Inf random tree: 0.773\n",
      "Test Error with depth-Inf random tree: 0.807\n"
     ]
    }
   ],
   "source": [
    "# Fit a random tree classifier\n",
    "include(\"randomTree_permute.jl\")\n",
    "depth = Inf\n",
    "model = randomTree(X,y,depth)\n",
    "\n",
    "# Evaluate training error\n",
    "yhat = model.predict(X)\n",
    "trainError = mean(yhat .!= y)\n",
    "@printf(\"Train Error with depth-%d random tree: %.3f\\n\",depth,trainError)\n",
    "\n",
    "# Evaluate test error\n",
    "yhat = model.predict(Xtest)\n",
    "testError = mean(yhat .!= ytest)\n",
    "@printf(\"Test Error with depth-%d random tree: %.3f\\n\",depth,testError)"
   ]
  },
  {
   "cell_type": "code",
   "execution_count": 4,
   "metadata": {},
   "outputs": [
    {
     "name": "stdout",
     "output_type": "stream",
     "text": [
      "Train Error with depth-Inf random tree: 0.780\n",
      "Test Error with depth-Inf random tree: 0.826\n"
     ]
    }
   ],
   "source": [
    "# Fit a random tree classifier\n",
    "include(\"randomTree_permute.jl\")\n",
    "depth = Inf\n",
    "model = randomTree(X,y,depth)\n",
    "\n",
    "# Evaluate training error\n",
    "yhat = model.predict(X)\n",
    "trainError = mean(yhat .!= y)\n",
    "@printf(\"Train Error with depth-%d random tree: %.3f\\n\",depth,trainError)\n",
    "\n",
    "# Evaluate test error\n",
    "yhat = model.predict(Xtest)\n",
    "testError = mean(yhat .!= ytest)\n",
    "@printf(\"Test Error with depth-%d random tree: %.3f\\n\",depth,testError)"
   ]
  },
  {
   "cell_type": "code",
   "execution_count": 5,
   "metadata": {},
   "outputs": [
    {
     "name": "stdout",
     "output_type": "stream",
     "text": [
      "Train Error with depth-Inf random tree: 0.837\n",
      "Test Error with depth-Inf random tree: 0.867\n"
     ]
    }
   ],
   "source": [
    "# Fit a random tree classifier\n",
    "include(\"randomTree_permute.jl\")\n",
    "depth = Inf\n",
    "model = randomTree(X,y,depth)\n",
    "\n",
    "# Evaluate training error\n",
    "yhat = model.predict(X)\n",
    "trainError = mean(yhat .!= y)\n",
    "@printf(\"Train Error with depth-%d random tree: %.3f\\n\",depth,trainError)\n",
    "\n",
    "# Evaluate test error\n",
    "yhat = model.predict(Xtest)\n",
    "testError = mean(yhat .!= ytest)\n",
    "@printf(\"Test Error with depth-%d random tree: %.3f\\n\",depth,testError)"
   ]
  },
  {
   "cell_type": "code",
   "execution_count": 6,
   "metadata": {},
   "outputs": [
    {
     "name": "stdout",
     "output_type": "stream",
     "text": [
      "Train Error with depth-Inf random tree: 0.841\n",
      "Test Error with depth-Inf random tree: 0.852\n"
     ]
    }
   ],
   "source": [
    "# Fit a random tree classifier\n",
    "include(\"randomTree_permute.jl\")\n",
    "depth = Inf\n",
    "model = randomTree(X,y,depth)\n",
    "\n",
    "# Evaluate training error\n",
    "yhat = model.predict(X)\n",
    "trainError = mean(yhat .!= y)\n",
    "@printf(\"Train Error with depth-%d random tree: %.3f\\n\",depth,trainError)\n",
    "\n",
    "# Evaluate test error\n",
    "yhat = model.predict(Xtest)\n",
    "testError = mean(yhat .!= ytest)\n",
    "@printf(\"Test Error with depth-%d random tree: %.3f\\n\",depth,testError)"
   ]
  },
  {
   "cell_type": "code",
   "execution_count": 7,
   "metadata": {},
   "outputs": [
    {
     "name": "stdout",
     "output_type": "stream",
     "text": [
      "Train Error with depth-Inf random tree: 0.686\n",
      "Test Error with depth-Inf random tree: 0.705\n"
     ]
    }
   ],
   "source": [
    "# Fit a random tree classifier\n",
    "include(\"randomTree_permute.jl\")\n",
    "depth = Inf\n",
    "model = randomTree(X,y,depth)\n",
    "\n",
    "# Evaluate training error\n",
    "yhat = model.predict(X)\n",
    "trainError = mean(yhat .!= y)\n",
    "@printf(\"Train Error with depth-%d random tree: %.3f\\n\",depth,trainError)\n",
    "\n",
    "# Evaluate test error\n",
    "yhat = model.predict(Xtest)\n",
    "testError = mean(yhat .!= ytest)\n",
    "@printf(\"Test Error with depth-%d random tree: %.3f\\n\",depth,testError)"
   ]
  },
  {
   "cell_type": "code",
   "execution_count": 8,
   "metadata": {},
   "outputs": [
    {
     "name": "stdout",
     "output_type": "stream",
     "text": [
      "Train Error with depth-Inf random tree: 0.792\n",
      "Test Error with depth-Inf random tree: 0.852\n"
     ]
    }
   ],
   "source": [
    "# Fit a random tree classifier\n",
    "include(\"randomTree_permute.jl\")\n",
    "depth = Inf\n",
    "model = randomTree(X,y,depth)\n",
    "\n",
    "# Evaluate training error\n",
    "yhat = model.predict(X)\n",
    "trainError = mean(yhat .!= y)\n",
    "@printf(\"Train Error with depth-%d random tree: %.3f\\n\",depth,trainError)\n",
    "\n",
    "# Evaluate test error\n",
    "yhat = model.predict(Xtest)\n",
    "testError = mean(yhat .!= ytest)\n",
    "@printf(\"Test Error with depth-%d random tree: %.3f\\n\",depth,testError)"
   ]
  },
  {
   "cell_type": "code",
   "execution_count": 9,
   "metadata": {},
   "outputs": [
    {
     "name": "stdout",
     "output_type": "stream",
     "text": [
      "Train Error with depth-Inf random tree: 0.788\n",
      "Test Error with depth-Inf random tree: 0.807\n"
     ]
    }
   ],
   "source": [
    "# Fit a random tree classifier\n",
    "include(\"randomTree_permute.jl\")\n",
    "depth = Inf\n",
    "model = randomTree(X,y,depth)\n",
    "\n",
    "# Evaluate training error\n",
    "yhat = model.predict(X)\n",
    "trainError = mean(yhat .!= y)\n",
    "@printf(\"Train Error with depth-%d random tree: %.3f\\n\",depth,trainError)\n",
    "\n",
    "# Evaluate test error\n",
    "yhat = model.predict(Xtest)\n",
    "testError = mean(yhat .!= ytest)\n",
    "@printf(\"Test Error with depth-%d random tree: %.3f\\n\",depth,testError)"
   ]
  },
  {
   "cell_type": "code",
   "execution_count": 10,
   "metadata": {},
   "outputs": [
    {
     "name": "stdout",
     "output_type": "stream",
     "text": [
      "Train Error with depth-Inf random tree: 0.758\n",
      "Test Error with depth-Inf random tree: 0.814\n"
     ]
    }
   ],
   "source": [
    "# Fit a random tree classifier\n",
    "include(\"randomTree_permute.jl\")\n",
    "depth = Inf\n",
    "model = randomTree(X,y,depth)\n",
    "\n",
    "# Evaluate training error\n",
    "yhat = model.predict(X)\n",
    "trainError = mean(yhat .!= y)\n",
    "@printf(\"Train Error with depth-%d random tree: %.3f\\n\",depth,trainError)\n",
    "\n",
    "# Evaluate test error\n",
    "yhat = model.predict(Xtest)\n",
    "testError = mean(yhat .!= ytest)\n",
    "@printf(\"Test Error with depth-%d random tree: %.3f\\n\",depth,testError)"
   ]
  },
  {
   "cell_type": "code",
   "execution_count": 11,
   "metadata": {},
   "outputs": [
    {
     "name": "stdout",
     "output_type": "stream",
     "text": [
      "Train Error with depth-Inf random tree: 0.758\n",
      "Test Error with depth-Inf random tree: 0.773\n"
     ]
    }
   ],
   "source": [
    "# Fit a random tree classifier\n",
    "include(\"randomTree_permute.jl\")\n",
    "depth = Inf\n",
    "model = randomTree(X,y,depth)\n",
    "\n",
    "# Evaluate training error\n",
    "yhat = model.predict(X)\n",
    "trainError = mean(yhat .!= y)\n",
    "@printf(\"Train Error with depth-%d random tree: %.3f\\n\",depth,trainError)\n",
    "\n",
    "# Evaluate test error\n",
    "yhat = model.predict(Xtest)\n",
    "testError = mean(yhat .!= ytest)\n",
    "@printf(\"Test Error with depth-%d random tree: %.3f\\n\",depth,testError)"
   ]
  },
  {
   "cell_type": "code",
   "execution_count": null,
   "metadata": {},
   "outputs": [],
   "source": []
  },
  {
   "cell_type": "code",
   "execution_count": null,
   "metadata": {},
   "outputs": [],
   "source": []
  },
  {
   "cell_type": "code",
   "execution_count": null,
   "metadata": {},
   "outputs": [],
   "source": []
  },
  {
   "cell_type": "code",
   "execution_count": null,
   "metadata": {},
   "outputs": [],
   "source": []
  },
  {
   "cell_type": "code",
   "execution_count": 18,
   "metadata": {},
   "outputs": [
    {
     "data": {
      "text/plain": [
       "randomForest (generic function with 1 method)"
      ]
     },
     "execution_count": 18,
     "metadata": {},
     "output_type": "execute_result"
    }
   ],
   "source": [
    "function randomForest(X, y, depth, nTrees)\n",
    "    Trees = Array{Union{GenericModel, StumpModel}}(undef, nTrees)\n",
    "    for i in 1:nTrees\n",
    "        Trees[i] = randomTree(X,y,depth)\n",
    "    end\n",
    "    \n",
    "    function predict(Xhat)\n",
    "        (t,d) = size(Xhat)\n",
    "\n",
    "        output = zeros(t, nTrees)\n",
    "        for i in 1:nTrees\n",
    "            output[:, i] = Trees[i].predict(Xhat)\n",
    "        end\n",
    "        \n",
    "        for i in 1:t\n",
    "            output[i, 1] = mode(output[i, :])\n",
    "        end\n",
    "        \n",
    "        return output[:, 1]\n",
    "    end\n",
    "    \n",
    "    return GenericModel(predict)\n",
    "end"
   ]
  },
  {
   "cell_type": "code",
   "execution_count": null,
   "metadata": {},
   "outputs": [],
   "source": []
  },
  {
   "cell_type": "code",
   "execution_count": 22,
   "metadata": {},
   "outputs": [
    {
     "name": "stdout",
     "output_type": "stream",
     "text": [
      "Train Error with depth-Inf random tree: 0.754\n",
      "Test Error with depth-Inf random tree: 0.807\n"
     ]
    }
   ],
   "source": [
    "depth = Inf\n",
    "nTrees = 50\n",
    "model = randomForest(X,y,depth, 1)\n",
    "\n",
    "# Evaluate training error\n",
    "yhat = model.predict(X)\n",
    "trainError = mean(yhat .!= y)\n",
    "@printf(\"Train Error with depth-%d random tree: %.3f\\n\",depth,trainError)\n",
    "\n",
    "# Evaluate test error\n",
    "yhat = model.predict(Xtest)\n",
    "testError = mean(yhat .!= ytest)\n",
    "@printf(\"Test Error with depth-%d random tree: %.3f\\n\",depth,testError)\n"
   ]
  },
  {
   "cell_type": "code",
   "execution_count": 25,
   "metadata": {},
   "outputs": [
    {
     "name": "stdout",
     "output_type": "stream",
     "text": [
      "Train Error with depth-Inf random tree: 0.098\n",
      "Test Error with depth-Inf random tree: 0.352\n"
     ]
    }
   ],
   "source": [
    "depth = Inf\n",
    "nTrees = 50\n",
    "model = randomForest(X,y,depth, 5000)\n",
    "\n",
    "# Evaluate training error\n",
    "yhat = model.predict(X)\n",
    "trainError = mean(yhat .!= y)\n",
    "@printf(\"Train Error with depth-%d random tree: %.3f\\n\",depth,trainError)\n",
    "\n",
    "# Evaluate test error\n",
    "yhat = model.predict(Xtest)\n",
    "testError = mean(yhat .!= ytest)\n",
    "@printf(\"Test Error with depth-%d random tree: %.3f\\n\",depth,testError)\n"
   ]
  },
  {
   "cell_type": "code",
   "execution_count": 21,
   "metadata": {},
   "outputs": [
    {
     "name": "stdout",
     "output_type": "stream",
     "text": [
      "Train Error with depth-Inf random tree: 0.114\n",
      "Test Error with depth-Inf random tree: 0.413\n"
     ]
    }
   ],
   "source": [
    "depth = Inf\n",
    "nTrees = 50\n",
    "model = randomForest(X,y,depth, 500)\n",
    "\n",
    "# Evaluate training error\n",
    "yhat = model.predict(X)\n",
    "trainError = mean(yhat .!= y)\n",
    "@printf(\"Train Error with depth-%d random tree: %.3f\\n\",depth,trainError)\n",
    "\n",
    "# Evaluate test error\n",
    "yhat = model.predict(Xtest)\n",
    "testError = mean(yhat .!= ytest)\n",
    "@printf(\"Test Error with depth-%d random tree: %.3f\\n\",depth,testError)\n"
   ]
  },
  {
   "cell_type": "code",
   "execution_count": 15,
   "metadata": {},
   "outputs": [
    {
     "name": "stdout",
     "output_type": "stream",
     "text": [
      "Train Error with depth-Inf random tree: 0.341\n",
      "Test Error with depth-Inf random tree: 0.553\n"
     ]
    }
   ],
   "source": [
    "depth = Inf\n",
    "nTrees = 50\n",
    "model = randomForest(X,y,depth, 50)\n",
    "\n",
    "# Evaluate training error\n",
    "yhat = model.predict(X)\n",
    "trainError = mean(yhat .!= y)\n",
    "@printf(\"Train Error with depth-%d random tree: %.3f\\n\",depth,trainError)\n",
    "\n",
    "# Evaluate test error\n",
    "yhat = model.predict(Xtest)\n",
    "testError = mean(yhat .!= ytest)\n",
    "@printf(\"Test Error with depth-%d random tree: %.3f\\n\",depth,testError)"
   ]
  },
  {
   "cell_type": "code",
   "execution_count": 16,
   "metadata": {},
   "outputs": [
    {
     "name": "stdout",
     "output_type": "stream",
     "text": [
      "Train Error with depth-Inf random tree: 0.337\n",
      "Test Error with depth-Inf random tree: 0.598\n"
     ]
    }
   ],
   "source": [
    "depth = Inf\n",
    "nTrees = 50\n",
    "model = randomForest(X,y,depth, 50)\n",
    "\n",
    "# Evaluate training error\n",
    "yhat = model.predict(X)\n",
    "trainError = mean(yhat .!= y)\n",
    "@printf(\"Train Error with depth-%d random tree: %.3f\\n\",depth,trainError)\n",
    "\n",
    "# Evaluate test error\n",
    "yhat = model.predict(Xtest)\n",
    "testError = mean(yhat .!= ytest)\n",
    "@printf(\"Test Error with depth-%d random tree: %.3f\\n\",depth,testError)\n"
   ]
  },
  {
   "cell_type": "code",
   "execution_count": null,
   "metadata": {},
   "outputs": [],
   "source": []
  }
 ],
 "metadata": {
  "kernelspec": {
   "display_name": "Julia 1.2.0",
   "language": "julia",
   "name": "julia-1.2"
  },
  "language_info": {
   "file_extension": ".jl",
   "mimetype": "application/julia",
   "name": "julia",
   "version": "1.2.0"
  }
 },
 "nbformat": 4,
 "nbformat_minor": 2
}
